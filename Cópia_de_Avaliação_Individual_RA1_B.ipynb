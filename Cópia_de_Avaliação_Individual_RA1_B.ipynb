{
  "nbformat": 4,
  "nbformat_minor": 0,
  "metadata": {
    "colab": {
      "provenance": [],
      "include_colab_link": true
    },
    "kernelspec": {
      "name": "python3",
      "display_name": "Python 3"
    },
    "language_info": {
      "name": "python"
    }
  },
  "cells": [
    {
      "cell_type": "markdown",
      "metadata": {
        "id": "view-in-github",
        "colab_type": "text"
      },
      "source": [
        "<a href=\"https://colab.research.google.com/github/Kurilanga/Modelagem-Avaliacao-1-/blob/main/C%C3%B3pia_de_Avalia%C3%A7%C3%A3o_Individual_RA1_B.ipynb\" target=\"_parent\"><img src=\"https://colab.research.google.com/assets/colab-badge.svg\" alt=\"Open In Colab\"/></a>"
      ]
    },
    {
      "cell_type": "markdown",
      "source": [
        "# Instruções:\n",
        "Para a realização desta tarefa você precisa fazer uma cópia deste carderno de questões para a sua conta. Você responderá a questão colando no AVA o link para a sua cópia contendo as suas respostas. \n",
        "\n",
        "Todas as questões precisam ser resolvidas algébrica e computacionalmente. Usando todos os recursos computacionais disponíveis na internet. Mas, você não pode consultar outros seres humanos. \n",
        "\n",
        "**Não se equeça de Preencher seu nome nesta célula:**\n",
        "# Nome: Francisco Ochoa Bonato\n"
      ],
      "metadata": {
        "id": "tNp1k47LJe0G"
      }
    },
    {
      "cell_type": "markdown",
      "source": [
        "# Questão 1: \n",
        "O valor de um computador deprecia exponencialmente com o tempo. Seu valor inicial é de R$ 4.000, e a taxa de depreciação anual é de 20%. Qual será o valor do computador após 5 anos? Use a fórmula:\n",
        "\n",
        "$$\n",
        "V(t) = V_0 \\cdot (1 - r)^t\n",
        "$$\n",
        "\n",
        "onde $V_0$ é o valor inicial, $r$ é a taxa de depreciação e $t$ é o tempo em anos. Não se esqueça de traçar um gráfico mostrando o o valor do bem depreciado, ano a ano, nos próximos 15 anos."
      ],
      "metadata": {
        "id": "hf2mQHzKJrdS"
      }
    },
    {
      "cell_type": "code",
      "execution_count": null,
      "metadata": {
        "id": "TJUsKBX7JeHw"
      },
      "outputs": [],
      "source": [
        "from matplotlib.patches import Polygon\n",
        "import matplotlib.pyplot as plt\n",
        "import math\n",
        "import numpy as np\n",
        "\n",
        "t = np.arange(0, 21,)\n",
        "\n",
        "def depreciacao(t):\n",
        "    Vt = 4000 * (1-0.2)**t\n",
        "    return Vt\n",
        "\n",
        "resultado_a = depreciacao(5)\n",
        "print(\"A depreciacao depois de 5 anos foi de: {}\" .format(resultado_a))\n",
        "\n",
        "plt.title(\"Exercicio 1\")\n",
        "plt.xticks(np.arange(min(t), max(t)+1, 1.0))\n",
        "plt.xlabel(\"Eixo X\")\n",
        "plt.ylabel(\"Eixo Y\")\n",
        "plt.axhline(color=\"black\")\n",
        "plt.axvline(color=\"black\")\n",
        "plt.plot(t, depreciacao(t))\n",
        "plt.show()"
      ]
    },
    {
      "cell_type": "markdown",
      "source": [
        "# Questão 2\n",
        "Usando, a seu critério, as bibliotecas do Python, crie um gráfico para cada uma das funções a seguir. No label do gráfico deverá estar a função impressa com qualidade matemática (latex) e uma label dizendo se a função é crescente ou decrescente. \n",
        "\n",
        "1. $3^{x-1} - 2^x = 7$\n",
        "\n",
        "2. $\\log_5(2x + 1) + \\log_5(x - 2) = 2$"
      ],
      "metadata": {
        "id": "TeHkHAbEPsps"
      }
    },
    {
      "cell_type": "code",
      "source": [
        "import numpy as np\n",
        "import matplotlib.pyplot as plt\n",
        "\n",
        "import numpy as np\n",
        "import matplotlib.pyplot as plt\n",
        "\n",
        "# Define a função\n",
        "def f(x):\n",
        "    return 3**(x-1) - 2**x - 7\n",
        "\n",
        "# Define os limites do intervalo onde a solução está\n",
        "a = 2\n",
        "b = 4\n",
        "\n",
        "# Define a precisão desejada\n",
        "tolerance = 1e-6\n",
        "\n",
        "# Aplica o método da bissecção para encontrar a solução\n",
        "while (b - a) / 2 > tolerance:\n",
        "    c = (a + b) / 2\n",
        "    if f(c) == 0:\n",
        "        break\n",
        "    elif f(a) * f(c) < 0:\n",
        "        b = c\n",
        "    else:\n",
        "        a = c\n",
        "\n",
        "# A solução aproximada é o valor médio do intervalo final\n",
        "x = (a + b) / 2\n",
        "\n",
        "# Define os valores de x\n",
        "x_values = np.linspace(2, 4, 1000)\n",
        "\n",
        "# Plota o gráfico da função\n",
        "plt.plot(x_values, f(x_values))\n",
        "\n",
        "# Adiciona a label com a função em latex\n",
        "plt.title(r'$3^{x-1} - 2^x = 7$')\n",
        "\n",
        "# Define os limites dos eixos\n",
        "plt.xlim(2, 4)\n",
        "plt.ylim(-10, 10)\n",
        "\n",
        "# Adiciona a label com a informação sobre a monotonicidade\n",
        "if f(x_values[0]) > f(x_values[-1]):\n",
        "    plt.text(3, 7, 'Função decrescente', fontsize=14, ha='center', va='center')\n",
        "else:\n",
        "    plt.text(3, 7, 'Função crescente', fontsize=14, ha='center', va='center')\n",
        "\n",
        "# Adiciona a marcação da solução\n",
        "plt.plot(x_values, np.zeros_like(x_values), 'k--')\n",
        "plt.plot(x_values, f(x_values), 'r')\n",
        "plt.plot(x_values[np.abs(f(x_values)) < tolerance], np.zeros_like(x_values[np.abs(f(x_values)) < tolerance]), 'bo')\n",
        "plt.plot([x], [f(x)], 'go')\n",
        "\n",
        "# Exibe o gráfico\n",
        "plt.show()"
      ],
      "metadata": {
        "id": "lTKI579jSJNW"
      },
      "execution_count": null,
      "outputs": []
    },
    {
      "cell_type": "code",
      "source": [
        "import numpy as np\n",
        "import matplotlib.pyplot as plt\n",
        "\n",
        "\n",
        "def f(x):\n",
        "    return np.log(2*x+1) / np.log(5) + np.log(x-2) / np.log(5)\n",
        "\n",
        "x = np.linspace(2.1, 5.9, 1000)\n",
        "plt.plot(x, f(x))\n",
        "plt.title(r'$\\log_5(2x+1) + \\log_5(x-2) = 2$')\n",
        "plt.xlim(2.1, 5.9)\n",
        "plt.ylim(-10, 10)\n",
        "plt.text(3.5, 7, 'Função decrescente', fontsize=14, ha='center', va='center')\n",
        "plt.show()"
      ],
      "metadata": {
        "id": "N7ph8cvjWnZx"
      },
      "execution_count": null,
      "outputs": []
    },
    {
      "cell_type": "markdown",
      "source": [
        "# Questão 3\n",
        "Usando o Sympy, ou qualquer outro recurso disponível na internet, escreva, com qualidade matemática o passo-a-passo algébrico que leva a determinação dos seguintes limites. Ao final, para cada uma das equações você deverá traçar um gráfico da função. \n",
        "\n",
        "1. $\\lim_{x \\to 0} \\frac{\\sin(2x)}{x}$\n",
        "\n",
        "2. $\\lim_{x \\to \\infty} \\frac{e^x}{x^3}$"
      ],
      "metadata": {
        "id": "JiLkY9RdSJ2H"
      }
    },
    {
      "cell_type": "code",
      "source": [
        "import sympy as sp\n",
        "import numpy as np\n",
        "import matplotlib.pyplot as plt\n",
        "\n",
        "#calculando o limite\n",
        "\n",
        "x = sp.Symbol('x')\n",
        "f = sp.sin(2*x)/x\n",
        "result = sp.limit(f, x, 0)\n",
        "print(\"O limite é: {}\".format(result))\n",
        "\n",
        "#plotando a funcao\n",
        "\n",
        "def f(x):\n",
        "    return np.sin(2*x)/x\n",
        "x_vals = np.linspace(-10, 10, 1000)\n",
        "y_vals = f(x_vals)\n",
        "\n",
        "plt.plot(x_vals, y_vals)\n",
        "plt.xlabel('x')\n",
        "plt.ylabel('sin(2x)/x')\n",
        "plt.title('Graph of sin(2x)/x')\n",
        "plt.show()"
      ],
      "metadata": {
        "id": "a_nCIN-1WtEZ"
      },
      "execution_count": null,
      "outputs": []
    },
    {
      "cell_type": "code",
      "source": [
        "import sympy as sp\n",
        "import numpy as np\n",
        "import matplotlib.pyplot as plt\n",
        "\n",
        "#calculando o limite\n",
        "\n",
        "x = sp.Symbol('x')\n",
        "f = sp.exp(x) / x**3\n",
        "limit = sp.limit(f, x, sp.oo)\n",
        "print(\"O limite é: {}\".format(limit))\n",
        "\n",
        "#plotando a funcao\n",
        "\n",
        "x = sp.Symbol('x')\n",
        "f = sp.exp(x) / x**3\n",
        "sp.plot(f, (x, 0, sp.oo))\n",
        "plt.show()"
      ],
      "metadata": {
        "id": "4YKcBBgcWs1s"
      },
      "execution_count": null,
      "outputs": []
    }
  ]
}